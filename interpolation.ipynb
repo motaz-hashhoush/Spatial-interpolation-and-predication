{
 "cells": [
  {
   "cell_type": "code",
   "execution_count": 1,
   "metadata": {},
   "outputs": [],
   "source": [
    "from osgeo import gdal\n",
    "from osgeo import ogr\n",
    "import pandas as pd\n",
    "import geopandas as gpd\n",
    "from sklearn.model_selection import train_test_split\n",
    "import rasterio\n",
    "from sklearn.model_selection import KFold\n",
    "import os"
   ]
  },
  {
   "cell_type": "code",
   "execution_count": 21,
   "metadata": {},
   "outputs": [
    {
     "data": {
      "text/html": [
       "<div>\n",
       "<style scoped>\n",
       "    .dataframe tbody tr th:only-of-type {\n",
       "        vertical-align: middle;\n",
       "    }\n",
       "\n",
       "    .dataframe tbody tr th {\n",
       "        vertical-align: top;\n",
       "    }\n",
       "\n",
       "    .dataframe thead th {\n",
       "        text-align: right;\n",
       "    }\n",
       "</style>\n",
       "<table border=\"1\" class=\"dataframe\">\n",
       "  <thead>\n",
       "    <tr style=\"text-align: right;\">\n",
       "      <th></th>\n",
       "      <th>STATION</th>\n",
       "      <th>SNOWDEPTH</th>\n",
       "      <th>geometry</th>\n",
       "    </tr>\n",
       "  </thead>\n",
       "  <tbody>\n",
       "    <tr>\n",
       "      <th>0</th>\n",
       "      <td>111</td>\n",
       "      <td>17</td>\n",
       "      <td>POINT (746057.688 4319837.500)</td>\n",
       "    </tr>\n",
       "    <tr>\n",
       "      <th>1</th>\n",
       "      <td>112</td>\n",
       "      <td>19</td>\n",
       "      <td>POINT (747707.688 4320227.500)</td>\n",
       "    </tr>\n",
       "    <tr>\n",
       "      <th>2</th>\n",
       "      <td>113</td>\n",
       "      <td>17</td>\n",
       "      <td>POINT (747677.688 4319207.500)</td>\n",
       "    </tr>\n",
       "    <tr>\n",
       "      <th>3</th>\n",
       "      <td>114</td>\n",
       "      <td>19</td>\n",
       "      <td>POINT (738467.688 4314557.500)</td>\n",
       "    </tr>\n",
       "    <tr>\n",
       "      <th>4</th>\n",
       "      <td>115</td>\n",
       "      <td>12</td>\n",
       "      <td>POINT (738137.688 4325327.500)</td>\n",
       "    </tr>\n",
       "  </tbody>\n",
       "</table>\n",
       "</div>"
      ],
      "text/plain": [
       "   STATION  SNOWDEPTH                        geometry\n",
       "0      111         17  POINT (746057.688 4319837.500)\n",
       "1      112         19  POINT (747707.688 4320227.500)\n",
       "2      113         17  POINT (747677.688 4319207.500)\n",
       "3      114         19  POINT (738467.688 4314557.500)\n",
       "4      115         12  POINT (738137.688 4325327.500)"
      ]
     },
     "execution_count": 21,
     "metadata": {},
     "output_type": "execute_result"
    }
   ],
   "source": [
    "df = gpd.read_file(\"data/snowpoint.shp\")\n",
    "df.head()"
   ]
  },
  {
   "cell_type": "code",
   "execution_count": 22,
   "metadata": {},
   "outputs": [],
   "source": [
    "df = df.set_geometry('geometry')"
   ]
  },
  {
   "cell_type": "code",
   "execution_count": 23,
   "metadata": {},
   "outputs": [
    {
     "name": "stdout",
     "output_type": "stream",
     "text": [
      "6\n"
     ]
    }
   ],
   "source": [
    "n=1\n",
    "kf = KFold(n_splits=5, random_state=128, shuffle=True)\n",
    "\n",
    "for train_index, test_index in kf.split(df):\n",
    "    X_train, X_test = df.iloc[train_index], df.iloc[test_index]\n",
    "    X_train.to_file('TrainTest/trainSnowPoints'+str(n)+'.shp')\n",
    "    X_test.to_file('TrainTest/testSnowPoints'+str(n)+'.shp')\n",
    " \n",
    "    nn = gdal.Grid(\"Results/Nearest\"+str(n)+\".tif\", 'TrainTest/trainSnowPoints'+str(n)+'.shp', zfield=\"SNOWDEPTH\",\n",
    "                algorithm = \"nearest\")\n",
    "    nn = None\n",
    "    ma = gdal.Grid(\"Results/Average\"+str(n)+\".tif\", 'TrainTest/trainSnowPoints'+str(n)+'.shp', zfield=\"SNOWDEPTH\",\n",
    "                algorithm = \"average\")\n",
    "    ma = None\n",
    "    idw = gdal.Grid(\"Results/IDW\"+str(n)+\".tif\", 'TrainTest/trainSnowPoints'+str(n)+'.shp', zfield = \"SNOWDEPTH\",\n",
    "                    algorithm = \"invdist:power=6\")\n",
    "    idw = None\n",
    "\n",
    "    n+=1\n",
    "\n",
    "print(n)\n"
   ]
  },
  {
   "cell_type": "markdown",
   "metadata": {},
   "source": [
    "## RMSE Score"
   ]
  },
  {
   "cell_type": "code",
   "execution_count": 8,
   "metadata": {},
   "outputs": [],
   "source": [
    "from sklearn.metrics import mean_squared_error\n",
    "from sklearn.preprocessing import MinMaxScaler\n",
    "import numpy as np"
   ]
  },
  {
   "cell_type": "code",
   "execution_count": 25,
   "metadata": {},
   "outputs": [],
   "source": [
    "def Normalization(data):\n",
    "    scaler = MinMaxScaler(feature_range=(0, 1))\n",
    "    scaler.fit(data)\n",
    "    newNorm=scaler.transform(data)\n",
    "    return newNorm\n"
   ]
  },
  {
   "cell_type": "code",
   "execution_count": 26,
   "metadata": {},
   "outputs": [
    {
     "name": "stdout",
     "output_type": "stream",
     "text": [
      "The average of IDW is 0.21278774571545994\n",
      "The average of Average is 0.6027491423176513\n",
      "The average of Nearest is 0.2562385575318728\n"
     ]
    }
   ],
   "source": [
    "files=[\"IDW\",\"Average\",\"Nearest\"]\n",
    "\n",
    "for file in files:\n",
    "    summation=0\n",
    "    for i in range(1,6):\n",
    "        pts = gpd.read_file('TrainTest/testSnowPoints'+str(i)+'.shp')\n",
    "        pts = pts[['STATION','SNOWDEPTH','geometry']]\n",
    "        pts.index = range(len(pts))\n",
    "        coords = [(x,y) for x, y in zip(pts.geometry.x, pts.geometry.y)]\n",
    "\n",
    "        src = rasterio.open(\"Results/\"+str(file)+str(i)+\".tif\")\n",
    "\n",
    "        pts['PredictedDepth'] = [x[0] for x in src.sample(coords)]\n",
    "        actual=pts[\"SNOWDEPTH\"].array.reshape(-1,1)\n",
    "        predicted=pts['PredictedDepth'].array.reshape(-1,1)\n",
    "        actual=Normalization(actual)\n",
    "        predicted=Normalization(predicted)\n",
    "        summation+=mean_squared_error(actual, predicted, squared=False)\n",
    "    average=summation/5\n",
    "    print(\"The average of\",file, \"is\", average)"
   ]
  },
  {
   "cell_type": "code",
   "execution_count": 27,
   "metadata": {},
   "outputs": [],
   "source": [
    "src = gdal.Open(\"data/arelev1.tif\")\n",
    "ulx, xres, xskew, uly, yskew, yres  = src.GetGeoTransform()\n",
    "lrx = ulx + (src.RasterXSize * xres)\n",
    "lry = uly + (src.RasterYSize * yres)\n",
    "\n",
    "lin = gdal.Grid(\"tifResults/SnowDepth.tif\", \"data/snowpoint.shp\", zfield = \"SNOWDEPTH\", algorithm = \"invdist:power=6\",width=752,height=948)\n",
    "lin = None"
   ]
  },
  {
   "cell_type": "code",
   "execution_count": null,
   "metadata": {},
   "outputs": [],
   "source": []
  },
  {
   "attachments": {},
   "cell_type": "markdown",
   "metadata": {},
   "source": [
    "## Calulcating Slope and HillShade"
   ]
  },
  {
   "cell_type": "code",
   "execution_count": 28,
   "metadata": {},
   "outputs": [],
   "source": [
    "def calculate_slope(DEM):\n",
    "    gdal.DEMProcessing('tifResults/slope.tif', DEM, 'slope')\n",
    "    with rasterio.open('tifResults/slope.tif') as dataset:\n",
    "        slope=dataset.read(1)\n",
    "    return slope\n",
    "def calculate_hillshade(DEM):\n",
    "    gdal.DEMProcessing('tifResults/Hillshade.tif', DEM, 'hillshade')\n",
    "    with rasterio.open('tifResults/Hillshade.tif') as dataset:\n",
    "        hillshade=dataset.read(1)\n",
    "    return hillshade\n",
    "def calculate_aspect(DEM):\n",
    "    gdal.DEMProcessing('tifResults/aspect.tif', DEM, 'aspect')\n",
    "    with rasterio.open('tifResults/aspect.tif') as dataset:\n",
    "        aspect=dataset.read(1)\n",
    "    return aspect\n",
    "\n",
    "slope=calculate_slope(\"data/arelev1.tif\")\n",
    "hillshade=calculate_hillshade(\"data/arelev1.tif\")\n",
    "aspect=calculate_aspect(\"data/arelev1.tif\")\n",
    "slop=None\n",
    "hillshade=None\n",
    "\n"
   ]
  },
  {
   "cell_type": "code",
   "execution_count": 11,
   "metadata": {},
   "outputs": [],
   "source": [
    "def Normy(data):\n",
    "    scaler = MinMaxScaler(feature_range=(0, 10))\n",
    "    scaler.fit(data)\n",
    "    newNorm=scaler.transform(data)\n",
    "    return newNorm\n"
   ]
  },
  {
   "cell_type": "code",
   "execution_count": 12,
   "metadata": {},
   "outputs": [],
   "source": [
    "result_path = 'tifResults/'\n",
    "X_RES, Y_RES = 948,752"
   ]
  },
  {
   "cell_type": "code",
   "execution_count": 13,
   "metadata": {},
   "outputs": [],
   "source": [
    "rasters = dict()\n",
    "for name in os.listdir(result_path):\n",
    "   rasters[name.split('.')[0]] = gdal.Open(result_path+name)"
   ]
  },
  {
   "cell_type": "code",
   "execution_count": 14,
   "metadata": {},
   "outputs": [
    {
     "data": {
      "text/plain": [
       "{'aspect': <osgeo.gdal.Dataset; proxy of <Swig Object of type 'GDALDatasetShadow *' at 0x0000025D3FB80CF0> >,\n",
       " 'Hillshade': <osgeo.gdal.Dataset; proxy of <Swig Object of type 'GDALDatasetShadow *' at 0x0000025D3F85A400> >,\n",
       " 'slope': <osgeo.gdal.Dataset; proxy of <Swig Object of type 'GDALDatasetShadow *' at 0x0000025D3F85A190> >,\n",
       " 'SnowDepth': <osgeo.gdal.Dataset; proxy of <Swig Object of type 'GDALDatasetShadow *' at 0x0000025D3F859770> >}"
      ]
     },
     "execution_count": 14,
     "metadata": {},
     "output_type": "execute_result"
    }
   ],
   "source": [
    "rasters"
   ]
  },
  {
   "cell_type": "code",
   "execution_count": 15,
   "metadata": {},
   "outputs": [],
   "source": [
    "final_raster = Normy(rasters['SnowDepth'].GetRasterBand(1).ReadAsArray())"
   ]
  },
  {
   "cell_type": "code",
   "execution_count": 16,
   "metadata": {},
   "outputs": [],
   "source": [
    "for criteria in rasters.keys():\n",
    "    if criteria != 'SnowDepth':    \n",
    "        final_raster += Normy(rasters[criteria].GetRasterBand(1).ReadAsArray())"
   ]
  },
  {
   "cell_type": "code",
   "execution_count": 17,
   "metadata": {},
   "outputs": [],
   "source": [
    "final_ds = gdal.GetDriverByName('GTiff').Create(\"final_raster.tiff\", Y_RES, X_RES, 1, gdal.GDT_Byte)\n"
   ]
  },
  {
   "cell_type": "code",
   "execution_count": 18,
   "metadata": {},
   "outputs": [
    {
     "data": {
      "text/plain": [
       "0"
      ]
     },
     "execution_count": 18,
     "metadata": {},
     "output_type": "execute_result"
    }
   ],
   "source": [
    "final_ds.SetGeoTransform(rasters['aspect'].GetGeoTransform())\n",
    "final_ds.SetProjection(rasters['aspect'].GetProjection())"
   ]
  },
  {
   "cell_type": "code",
   "execution_count": 19,
   "metadata": {},
   "outputs": [],
   "source": [
    "final_band = final_ds.GetRasterBand(1)\n",
    "final_band.SetNoDataValue(-9999)\n",
    "final_band.WriteArray(final_raster, 0, 0)\n",
    "final_band.FlushCache()"
   ]
  },
  {
   "cell_type": "code",
   "execution_count": 38,
   "metadata": {},
   "outputs": [],
   "source": [
    "for file in rasters.values():\n",
    "    del file\n",
    "\n",
    "del final_ds\n",
    "del final_band"
   ]
  },
  {
   "cell_type": "code",
   "execution_count": null,
   "metadata": {},
   "outputs": [],
   "source": []
  }
 ],
 "metadata": {
  "kernelspec": {
   "display_name": "Python 3",
   "language": "python",
   "name": "python3"
  },
  "language_info": {
   "codemirror_mode": {
    "name": "ipython",
    "version": 3
   },
   "file_extension": ".py",
   "mimetype": "text/x-python",
   "name": "python",
   "nbconvert_exporter": "python",
   "pygments_lexer": "ipython3",
   "version": "3.10.4"
  },
  "orig_nbformat": 4,
  "vscode": {
   "interpreter": {
    "hash": "aad551c282902343c4c10fb7f8dffd017e1e08d57377550a9bcf3bad6c731bf1"
   }
  }
 },
 "nbformat": 4,
 "nbformat_minor": 2
}
