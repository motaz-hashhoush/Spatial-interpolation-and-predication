{
 "cells": [
  {
   "cell_type": "code",
   "execution_count": 15,
   "metadata": {},
   "outputs": [],
   "source": [
    "import numpy as np\n",
    "from osgeo import ogr, gdal\n",
    "import rasterio as rio\n",
    "from sklearn.model_selection import train_test_split"
   ]
  },
  {
   "cell_type": "code",
   "execution_count": 13,
   "metadata": {},
   "outputs": [],
   "source": [
    "def grid_vector_to_raster(shpfile_path, output_path, distance=False):\n",
    "\n",
    "    # making the shapefile as an object.\n",
    "    vec_ds = ogr.Open(shpfile_path) \n",
    "    # getting layer information of shapefile.\n",
    "    layer = vec_ds.GetLayer() \n",
    "    PIXEL_SIZE = 98\n",
    "    NO_DATA_VALUE = -9999\n",
    "    x_min, x_max, y_min, y_max = layer.GetExtent()\n",
    "    \n",
    "    x_res = int((x_max - x_min) // PIXEL_SIZE)\n",
    "    y_res= int((y_max - y_min) // PIXEL_SIZE)\n",
    "    print(x_res, y_res)\n",
    "    \n",
    "    # get GeoTiff driver \n",
    "    driver = gdal.GetDriverByName('GTiff')\n",
    "\n",
    "    # passing the filename, x and y direction resolution, no. of bands, new raster.\n",
    "    new_raster = driver.Create(output_path, x_res, y_res, 1, gdal.GDT_Byte)\n",
    "\n",
    "    # transforms between pixel raster space to projection coordinate space.\n",
    "    new_raster.SetGeoTransform((x_min, PIXEL_SIZE, 0, y_max, 0, -PIXEL_SIZE))\n",
    "\n",
    "    #get required raster band.\n",
    "    band = new_raster.GetRasterBand(1)\n",
    "    band.SetNoDataValue(NO_DATA_VALUE)\n",
    "    band.FlushCache()\n",
    "\n",
    "    #main conversion method\n",
    "    gdal.RasterizeLayer(new_raster, [1], layer)\n",
    "    \n",
    "        \n",
    "    "
   ]
  },
  {
   "cell_type": "code",
   "execution_count": 14,
   "metadata": {},
   "outputs": [
    {
     "name": "stdout",
     "output_type": "stream",
     "text": [
      "225 283\n"
     ]
    }
   ],
   "source": [
    "grid_vector_to_raster('data/Interpolaion/snowpoint.shp', 'snow_point.tif')"
   ]
  },
  {
   "cell_type": "code",
   "execution_count": 16,
   "metadata": {},
   "outputs": [],
   "source": [
    "with rio.open('snow_point.tif', 'r') as file:\n",
    "    data = file.read()\n",
    "    "
   ]
  },
  {
   "cell_type": "code",
   "execution_count": 22,
   "metadata": {},
   "outputs": [
    {
     "data": {
      "text/plain": [
       "(1, 283, 225)"
      ]
     },
     "execution_count": 22,
     "metadata": {},
     "output_type": "execute_result"
    }
   ],
   "source": [
    "data.shape"
   ]
  },
  {
   "cell_type": "code",
   "execution_count": 26,
   "metadata": {},
   "outputs": [],
   "source": [
    "train, test = train_test_split(data[0], test_size=0.2,train_size=0.8, random_state=32)"
   ]
  },
  {
   "cell_type": "code",
   "execution_count": 30,
   "metadata": {},
   "outputs": [
    {
     "data": {
      "text/plain": [
       "(226, 225)"
      ]
     },
     "execution_count": 30,
     "metadata": {},
     "output_type": "execute_result"
    }
   ],
   "source": [
    "train.shape"
   ]
  },
  {
   "cell_type": "code",
   "execution_count": 31,
   "metadata": {},
   "outputs": [
    {
     "data": {
      "text/plain": [
       "(57, 225)"
      ]
     },
     "execution_count": 31,
     "metadata": {},
     "output_type": "execute_result"
    }
   ],
   "source": [
    "test.shape"
   ]
  },
  {
   "cell_type": "code",
   "execution_count": null,
   "metadata": {},
   "outputs": [],
   "source": []
  }
 ],
 "metadata": {
  "kernelspec": {
   "display_name": "Python 3.10.4 64-bit",
   "language": "python",
   "name": "python3"
  },
  "language_info": {
   "codemirror_mode": {
    "name": "ipython",
    "version": 3
   },
   "file_extension": ".py",
   "mimetype": "text/x-python",
   "name": "python",
   "nbconvert_exporter": "python",
   "pygments_lexer": "ipython3",
   "version": "3.10.4 (tags/v3.10.4:9d38120, Mar 23 2022, 23:13:41) [MSC v.1929 64 bit (AMD64)]"
  },
  "orig_nbformat": 4,
  "vscode": {
   "interpreter": {
    "hash": "aad551c282902343c4c10fb7f8dffd017e1e08d57377550a9bcf3bad6c731bf1"
   }
  }
 },
 "nbformat": 4,
 "nbformat_minor": 2
}
